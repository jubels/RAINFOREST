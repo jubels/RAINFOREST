# -*- coding: utf-8 -*-

#%%
import unittest
import pandas as pd

#%%
from classifiers.ensembl import RandomForest
from classifiers.tree import  Bftree
#Test 1
snps = pd.read_csv("data/simulatedSNPdata_Survival.csv",sep=";").set_index("ID") 
labels =  pd.read_csv("data/simulatedPatientinfo_Survival.csv",sep=";").set_index("ID")   
x,y = snps.iloc[:600,:200], labels.iloc[:600,:]    
test_set = pd.concat([x.iloc[:1,:],y.iloc[:1,:]],axis=1)

##Import testset
#snps = pd.read_csv('/Volumes/data/SkylineDx/GESTURE/LUMC/cairoExport-20190501/processedData/snpCairoCheck.csv',sep=";").set_index("ID") 
#labels =  pd.read_csv("/Volumes/data/SkylineDx/GESTURE/LUMC/cairoExport-20190501/processedData/ImputedSurvGenotyped.csv",sep=";", decimal = ",").set_index("ID")   
#x,y = snps, labels
#test_set = pd.concat([x.iloc[:1,:],y.iloc[:1,:]],axis=1)


class TestBfTree(unittest.TestCase):
    
    def test_bfc_scorer(self):
        pass
    
    def test_decision_tree(self):
        tree = Bftree(max_depth=2, min_size=1)
        tree.set_criterion("ttc")
        tree.fit(data=x, targets=y)
        res = tree.predict(dataset=test_set,feature=tree.tree.root)
        print("DT predicted class: ",res)
        
    def test_random_forest(self):
        RF = RandomForest(max_depth=2, min_size=1, n_trees=20, criterion="ttc")
        RF.fit(x,y)
        print("RF predicted class: ",RF.ensembl_predict(test_set,"/Users/jubels/Projects/CRC_gwas/Results"))
        
        
        
if __name__ == '__main__':
    unittest.main()
    
